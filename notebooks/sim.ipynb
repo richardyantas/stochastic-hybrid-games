{
 "cells": [
  {
   "cell_type": "code",
   "execution_count": 1,
   "metadata": {},
   "outputs": [],
   "source": [
    "\n",
    "import sys\n",
    "sys.path.append(\"../../\")\n",
    "import multiprocessing\n",
    "import argparse\n",
    "import importlib\n",
    "from sthocastic_hybrid_game.src.controllers import UPPAAL, MPC\n",
    "from sthocastic_hybrid_game.src.viz import viz\n"
   ]
  },
  {
   "cell_type": "code",
   "execution_count": 2,
   "metadata": {},
   "outputs": [],
   "source": [
    "\n",
    "def _import_class(module_and_clas_name: str) -> type:\n",
    "    \"\"\"Import class from a module, e.g. 'sthocastics_hybrid_game.controllers.UPPAAL'\"\"\"\n",
    "    module_name, class_name = module_and_clas_name.rsplit(\".\", 1)\n",
    "    module = importlib.import_module(module_name)\n",
    "    class_ = getattr(module, class_name)\n",
    "    return class_\n"
   ]
  },
  {
   "cell_type": "code",
   "execution_count": 4,
   "metadata": {},
   "outputs": [
    {
     "name": "stdout",
     "output_type": "stream",
     "text": [
      "dt: 60\n",
      "umodes: 288\n",
      "Simulation completed!\n",
      "Plotting ..\n"
     ]
    },
    {
     "data": {
      "text/plain": [
       "[1, 0, 0]"
      ]
     },
     "execution_count": 4,
     "metadata": {},
     "output_type": "execute_result"
    }
   ],
   "source": [
    "\n",
    "data_class = _import_class(\n",
    "    f\"sthocastic_hybrid_game.src.data.SOLAR\")\n",
    "model_class = _import_class(\n",
    "    f\"sthocastic_hybrid_game.src.models.SWH\")\n",
    "controller_class = _import_class(\n",
    "    f\"sthocastic_hybrid_game.src.controllers.MPC\")\n",
    "data = data_class(args=None)\n",
    "model = model_class(data_config=data.config(),\n",
    "                    disturbs=data.loader_data(), u_actions=data.uncontrollable_action_generation())\n",
    "controller = controller_class(\n",
    "    data_config=data.config(), model=model)\n",
    "t = 0\n",
    "dt = 60\n",
    "times = [0]\n",
    "num_tau = controller.get_tau()\n",
    "# K = 3 (maximum size), D, thus send 3 steps more to uppal T,I\n",
    "for i in range(0, data.config()[\"life_time\"]):\n",
    "    # here is the problem !! it can be exact!!\n",
    "    if i % (num_tau) == 0:\n",
    "        # if (int(i/num_tau)+len(controller.get_pat()) > int(data.config()[\"life_time\"]/num_tau)):\n",
    "        #    break\n",
    "        pat = controller.control(int(i/num_tau))\n",
    "        times.append(i)  # here !\n",
    "    t = t + dt\n",
    "\n",
    "print(\"Simulation completed!\")\n",
    "print(\"Plotting ..\")\n",
    "\n",
    "# one idea is to consider an aproximation error so one strategy  would be increasy the boundary over R [n + e, m + e] in python\n",
    "c_actions = controller.get_controllable_actions()\n",
    "u_actions = controller.get_uncontrollable_actions()\n",
    "c_actions.pop()\n",
    "#viz(controller.get_states(), c_actions, u_actions, data.config(), data.loader_data(), times)"
   ]
  }
 ],
 "metadata": {
  "kernelspec": {
   "display_name": "Python 3.9.16 ('ucsp-solar')",
   "language": "python",
   "name": "python3"
  },
  "language_info": {
   "name": "python",
   "version": "3.9.16"
  },
  "metadata": {
   "interpreter": {
    "hash": "996b4aca64cbf3d07450a52c6e84935e5d94770b069cf440a2357e54a9361d40"
   }
  },
  "vscode": {
   "interpreter": {
    "hash": "586dcfe7541b0200385a0e8af464e94d9da2725d7678dd3f71cdb183ba969904"
   }
  }
 },
 "nbformat": 4,
 "nbformat_minor": 2
}
